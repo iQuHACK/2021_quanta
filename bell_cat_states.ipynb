{
 "cells": [
  {
   "cell_type": "markdown",
   "metadata": {},
   "source": [
    "# Hello Many Worlds - Creating Bell States and Cat States on IonQ Quantum Computer"
   ]
  },
  {
   "cell_type": "markdown",
   "metadata": {},
   "source": [
    "## Setup\n",
    "\n",
    "First, get an API key from IonQ. This will be used by the IonQ provider inside Qiskit to submit circuits to the IonQ platform.\n",
    "\n",
    "After securing an API key, install the python package included with this notebook using `pip`:\n",
    "\n",
    "```bash\n",
    "pip install qiskit_ionq_provider-0.0.1.dev0+45bd6b1-py3-none-any.whl\n",
    "```\n",
    "\n",
    "(IonQ's adapter for Qiskit is currently in private beta -- your feedback is welcomed!)\n",
    "\n",
    "### (Optional) Extra Dependencies\n",
    "\n",
    "Some examples use additional Python dependencies; please make sure to `pip install` them as needed.\n",
    "\n",
    "Dependencies:\n",
    "* `matplotlib`: To run `qiskit.visualization.plot_histogram`.\n",
    "\n",
    "**NOTE**: The provider expects an API key to be supplied via the `token` keyword argument to its constructor. If no token is directly provided, the provider will check for one in the `QISKIT_IONQ_API_TOKEN` environment variable.\n",
    "\n",
    "Now that the Python package has been installed, you can import and instantiate the provider:"
   ]
  },
  {
   "cell_type": "code",
   "execution_count": 27,
   "metadata": {},
   "outputs": [],
   "source": [
    "#import Aer here, before calling qiskit_ionq_provider\n",
    "from qiskit import Aer\n",
    "from time import sleep\n",
    "\n",
    "from qiskit_ionq_provider import IonQProvider \n",
    "\n",
    "with open(\".ionqkey\") as keyfile:\n",
    "    key = keyfile.readline().strip('\\n')\n",
    "\n",
    "#Call provider and set token value\n",
    "provider = IonQProvider(token=key)"
   ]
  },
  {
   "cell_type": "markdown",
   "metadata": {},
   "source": [
    "The `provider` instance can now be used to create and submit circuits to IonQ.\n",
    "\n",
    "### Backend Types\n",
    "\n",
    "The IonQ provider supports two backend types:\n",
    "* `ionq_simulator`: IonQ's simulator backend.\n",
    "* `ionq_qpu`: IonQ's QPU backend.\n",
    "\n",
    "To view all current backend types, use the `.backends` property on the provider instance:\n"
   ]
  },
  {
   "cell_type": "code",
   "execution_count": 7,
   "metadata": {},
   "outputs": [
    {
     "data": {
      "text/plain": [
       "[<IonQSimulatorBackend('ionq_simulator') from <qiskit_ionq_provider.ionq_provider.IonQProvider object at 0x7fdc5d643f10>()>,\n",
       " <IonQQPUBackend('ionq_qpu') from <qiskit_ionq_provider.ionq_provider.IonQProvider object at 0x7fdc5d643f10>()>]"
      ]
     },
     "execution_count": 7,
     "metadata": {},
     "output_type": "execute_result"
    }
   ],
   "source": [
    "provider.backends()"
   ]
  },
  {
   "cell_type": "markdown",
   "metadata": {},
   "source": [
    "### Example - Bell State\n",
    "\n",
    "For our first example, let's prepare a standard Bell state using Qiskit."
   ]
  },
  {
   "cell_type": "code",
   "execution_count": 8,
   "metadata": {},
   "outputs": [
    {
     "data": {
      "text/html": [
       "<pre style=\"word-wrap: normal;white-space: pre;background: #fff0;line-height: 1.1;font-family: &quot;Courier New&quot;,Courier,monospace\">     ┌───┐     ┌─┐   \n",
       "q_0: ┤ H ├──■──┤M├───\n",
       "     └───┘┌─┴─┐└╥┘┌─┐\n",
       "q_1: ─────┤ X ├─╫─┤M├\n",
       "          └───┘ ║ └╥┘\n",
       "c: 2/═══════════╩══╩═\n",
       "                0  1 </pre>"
      ],
      "text/plain": [
       "     ┌───┐     ┌─┐   \n",
       "q_0: ┤ H ├──■──┤M├───\n",
       "     └───┘┌─┴─┐└╥┘┌─┐\n",
       "q_1: ─────┤ X ├─╫─┤M├\n",
       "          └───┘ ║ └╥┘\n",
       "c: 2/═══════════╩══╩═\n",
       "                0  1 "
      ]
     },
     "execution_count": 8,
     "metadata": {},
     "output_type": "execute_result"
    }
   ],
   "source": [
    "from qiskit import QuantumCircuit\n",
    "\n",
    "# Create a bell state circuit.\n",
    "qc = QuantumCircuit(2, 2)\n",
    "qc.h(0)\n",
    "qc.cx(0, 1)\n",
    "qc.measure([0, 1], [0, 1])\n",
    "\n",
    "# Show the circuit:\n",
    "qc.draw()"
   ]
  },
  {
   "cell_type": "markdown",
   "metadata": {},
   "source": [
    "Now run the circuit using IonQ's simulator backend:"
   ]
  },
  {
   "cell_type": "code",
   "execution_count": 9,
   "metadata": {},
   "outputs": [],
   "source": [
    "from qiskit.providers.jobstatus import JobStatus\n",
    "\n",
    "# Get an IonQ simulator backend to run circuits on:\n",
    "backend = provider.get_backend(\"ionq_simulator\")\n",
    "\n",
    "# Then run the circuit:\n",
    "job = backend.run(qc, shots=1000)\n",
    "\n",
    "#save job_id\n",
    "job_id_bell = job.job_id()\n",
    "\n",
    "# Fetch the result:\n",
    "result = job.result()"
   ]
  },
  {
   "cell_type": "markdown",
   "metadata": {},
   "source": [
    "Last but not least, use Qiskit's built-in tools to render the results as a histogram:"
   ]
  },
  {
   "cell_type": "code",
   "execution_count": 10,
   "metadata": {},
   "outputs": [
    {
     "data": {
      "image/png": "[encoded data removed]",
      "text/plain": [
       "<Figure size 504x360 with 1 Axes>"
      ]
     },
     "execution_count": 10,
     "metadata": {},
     "output_type": "execute_result"
    }
   ],
   "source": [
    "from qiskit.visualization import plot_histogram\n",
    "\n",
    "plot_histogram(result.get_counts())"
   ]
  },
  {
   "cell_type": "code",
   "execution_count": 11,
   "metadata": {},
   "outputs": [],
   "source": [
    "# Next get an IonQ hardware backend to run circuits on:\n",
    "qpu_backend = provider.get_backend(\"ionq_qpu\")\n",
    "\n",
    "# Then run the circuit:\n",
    "qpu_job_bell = qpu_backend.run(qc)\n",
    "\n",
    "#Store job id\n",
    "job_id_bell = qpu_job_bell.job_id()"
   ]
  },
  {
   "cell_type": "markdown",
   "metadata": {},
   "source": [
    "The job will queue, and results will arrive once it's executed!"
   ]
  },
  {
   "cell_type": "code",
   "execution_count": 15,
   "metadata": {},
   "outputs": [
    {
     "name": "stdout",
     "output_type": "stream",
     "text": [
      "Job status is DONE\n"
     ]
    }
   ],
   "source": [
    "#Check if job is done\n",
    "if qpu_job_bell.status() is JobStatus.DONE:\n",
    "    \n",
    "    print(\"Job status is DONE\")\n",
    "    \n",
    "    # Fetch the result:\n",
    "    qpu_result_bell = qpu_job_bell.result()\n",
    "   \n",
    "else:\n",
    "    print(\"Job status is \", qpu_job_bell.status() )"
   ]
  },
  {
   "cell_type": "code",
   "execution_count": 16,
   "metadata": {},
   "outputs": [
    {
     "data": {
      "image/png": "[encoded data removed]",
      "text/plain": [
       "<Figure size 504x360 with 1 Axes>"
      ]
     },
     "execution_count": 16,
     "metadata": {},
     "output_type": "execute_result"
    }
   ],
   "source": [
    "#If Job is finished, plot and validate results:\n",
    "plot_histogram(qpu_result_bell.get_counts())"
   ]
  },
  {
   "cell_type": "markdown",
   "metadata": {},
   "source": [
    "### Job History\n",
    "\n",
    "Provider backends can also be used to retrieve previously run jobs:"
   ]
  },
  {
   "cell_type": "code",
   "execution_count": 17,
   "metadata": {},
   "outputs": [
    {
     "data": {
      "image/png": "[encoded data removed]",
      "text/plain": [
       "<Figure size 504x360 with 1 Axes>"
      ]
     },
     "execution_count": 17,
     "metadata": {},
     "output_type": "execute_result"
    }
   ],
   "source": [
    "# Retrieve a previously executed job:\n",
    "old_job = backend.retrieve_job(job_id_bell)\n",
    "\n",
    "# Then render the old job results:\n",
    "old_result = old_job.result()\n",
    "plot_histogram(old_result.get_counts())"
   ]
  },
  {
   "cell_type": "markdown",
   "metadata": {},
   "source": [
    "### Example - Cat State\n",
    "\n",
    "Next let's generalize this to several qubits, also called a `cat state`"
   ]
  },
  {
   "cell_type": "code",
   "execution_count": 18,
   "metadata": {},
   "outputs": [
    {
     "data": {
      "text/html": [
       "<pre style=\"word-wrap: normal;white-space: pre;background: #fff0;line-height: 1.1;font-family: &quot;Courier New&quot;,Courier,monospace\">     ┌───┐                     ┌─┐   \n",
       "q_0: ┤ H ├──■────■───────■─────┤M├───\n",
       "     └───┘┌─┴─┐  │  ┌─┐  │     └╥┘   \n",
       "q_1: ─────┤ X ├──┼──┤M├──┼──────╫────\n",
       "          └───┘┌─┴─┐└╥┘  │  ┌─┐ ║    \n",
       "q_2: ──────────┤ X ├─╫───┼──┤M├─╫────\n",
       "               └───┘ ║ ┌─┴─┐└╥┘ ║ ┌─┐\n",
       "q_3: ────────────────╫─┤ X ├─╫──╫─┤M├\n",
       "                     ║ └───┘ ║  ║ └╥┘\n",
       "c: 4/════════════════╩═══════╩══╩══╩═\n",
       "                     1       2  0  3 </pre>"
      ],
      "text/plain": [
       "     ┌───┐                     ┌─┐   \n",
       "q_0: ┤ H ├──■────■───────■─────┤M├───\n",
       "     └───┘┌─┴─┐  │  ┌─┐  │     └╥┘   \n",
       "q_1: ─────┤ X ├──┼──┤M├──┼──────╫────\n",
       "          └───┘┌─┴─┐└╥┘  │  ┌─┐ ║    \n",
       "q_2: ──────────┤ X ├─╫───┼──┤M├─╫────\n",
       "               └───┘ ║ ┌─┴─┐└╥┘ ║ ┌─┐\n",
       "q_3: ────────────────╫─┤ X ├─╫──╫─┤M├\n",
       "                     ║ └───┘ ║  ║ └╥┘\n",
       "c: 4/════════════════╩═══════╩══╩══╩═\n",
       "                     1       2  0  3 "
      ]
     },
     "execution_count": 18,
     "metadata": {},
     "output_type": "execute_result"
    }
   ],
   "source": [
    "n=4\n",
    "qc_cat = QuantumCircuit(n, n)\n",
    "qc_cat.h(0)\n",
    "for i in range(1,n):\n",
    "    qc_cat.cx(0, i)\n",
    "\n",
    "qc_cat.measure(range(n), range(n))\n",
    "\n",
    "# Show the circuit:\n",
    "qc_cat.draw()"
   ]
  },
  {
   "cell_type": "code",
   "execution_count": 19,
   "metadata": {},
   "outputs": [
    {
     "data": {
      "image/png": "[encoded data removed]",
      "text/plain": [
       "<Figure size 504x360 with 1 Axes>"
      ]
     },
     "execution_count": 19,
     "metadata": {},
     "output_type": "execute_result"
    }
   ],
   "source": [
    "#Run the circuit on the simulator and plot the results\n",
    "job_cat = backend.run(qc_cat)\n",
    "\n",
    "#save job_id\n",
    "job_id_cat = job_cat.job_id()\n",
    "\n",
    "# Fetch the result:\n",
    "result_cat = job_cat.result()\n",
    "\n",
    "plot_histogram(result_cat.get_counts())\n"
   ]
  },
  {
   "cell_type": "code",
   "execution_count": 21,
   "metadata": {},
   "outputs": [],
   "source": [
    "# Then run the circuit on the hardware:\n",
    "qpu_job_cat = qpu_backend.run(qc_cat)\n",
    "\n",
    "# save job id\n",
    "qpu_job_id_cat = qpu_job_cat.job_id()\n",
    "\n"
   ]
  },
  {
   "cell_type": "code",
   "execution_count": 24,
   "metadata": {},
   "outputs": [
    {
     "name": "stdout",
     "output_type": "stream",
     "text": [
      "Job status is  JobStatus.DONE\n"
     ]
    }
   ],
   "source": [
    "#Check if job is done\n",
    "while qpu_job_cat.status() is JobStatus.QUEUED:\n",
    "    sleep(1)\n",
    "    \n",
    "print(\"Job status is \", qpu_job_cat.status() )\n",
    "\n",
    "if qpu_job_cat.status() is JobStatus.DONE:\n",
    "    # Fetch the result:\n",
    "    qpu_result_cat = qpu_job_cat.result()"
   ]
  },
  {
   "cell_type": "code",
   "execution_count": 25,
   "metadata": {},
   "outputs": [
    {
     "data": {
      "image/png": "[encoded data removed]",
      "text/plain": [
       "<Figure size 504x360 with 1 Axes>"
      ]
     },
     "execution_count": 25,
     "metadata": {},
     "output_type": "execute_result"
    }
   ],
   "source": [
    "#If Job is finished, plot and validate results:\n",
    "plot_histogram(qpu_result_cat.get_counts())"
   ]
  },
  {
   "cell_type": "code",
   "execution_count": null,
   "metadata": {},
   "outputs": [],
   "source": []
  }
 ],
 "metadata": {
  "kernelspec": {
   "display_name": "Python 3",
   "language": "python",
   "name": "python3"
  },
  "language_info": {
   "codemirror_mode": {
    "name": "ipython",
    "version": 3
   },
   "file_extension": ".py",
   "mimetype": "text/x-python",
   "name": "python",
   "nbconvert_exporter": "python",
   "pygments_lexer": "ipython3",
   "version": "3.7.9"
  }
 },
 "nbformat": 4,
 "nbformat_minor": 2
}
