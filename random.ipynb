{
 "cells": [
  {
   "cell_type": "code",
   "execution_count": 1,
   "id": "manual-lightweight",
   "metadata": {},
   "outputs": [],
   "source": [
    "import os\n",
    "token = os.environ.get('ionq_token')\n",
    "from qiskit_ionq_provider import IonQProvider \n",
    "#from qiskit.quantum_info import entropy, DensityMatrix, partial_trace\n",
    "#from qiskit.visualization import plot_state_city, plot_histogram, plot_bloch_multivector, plot_state_hinton\n",
    "\n"
   ]
  },
  {
   "cell_type": "code",
   "execution_count": 2,
   "id": "final-landing",
   "metadata": {},
   "outputs": [],
   "source": [
    "provider = IonQProvider(token=token)"
   ]
  },
  {
   "cell_type": "code",
   "execution_count": 3,
   "id": "athletic-birth",
   "metadata": {},
   "outputs": [
    {
     "data": {
      "text/html": [
       "<pre style=\"word-wrap: normal;white-space: pre;background: #fff0;line-height: 1.1;font-family: &quot;Courier New&quot;,Courier,monospace\">     ┌───┐\n",
       "q_0: ┤ H ├\n",
       "     └───┘\n",
       "q_1: ─────\n",
       "     ┌───┐\n",
       "q_2: ┤ X ├\n",
       "     ├───┤\n",
       "q_3: ┤ H ├\n",
       "     └───┘\n",
       "q_4: ─────\n",
       "          \n",
       "q_5: ─────\n",
       "          \n",
       "q_6: ─────\n",
       "          \n",
       "q_7: ─────\n",
       "          \n",
       "q_8: ─────\n",
       "          \n",
       "c: 9/═════\n",
       "          </pre>"
      ],
      "text/plain": [
       "     ┌───┐\n",
       "q_0: ┤ H ├\n",
       "     └───┘\n",
       "q_1: ─────\n",
       "     ┌───┐\n",
       "q_2: ┤ X ├\n",
       "     ├───┤\n",
       "q_3: ┤ H ├\n",
       "     └───┘\n",
       "q_4: ─────\n",
       "          \n",
       "q_5: ─────\n",
       "          \n",
       "q_6: ─────\n",
       "          \n",
       "q_7: ─────\n",
       "          \n",
       "q_8: ─────\n",
       "          \n",
       "c: 9/═════\n",
       "          "
      ]
     },
     "execution_count": 3,
     "metadata": {},
     "output_type": "execute_result"
    }
   ],
   "source": [
    "from qiskit import QuantumCircuit\n",
    "# Create a bell state circuit.\n",
    "qc = QuantumCircuit(9, 9)\n",
    "qc.h(0)\n",
    "# qc.cnot(0,1)\n",
    "qc.x(2)\n",
    "qc.h(3)\n",
    "qc.draw()"
   ]
  },
  {
   "cell_type": "code",
   "execution_count": 4,
   "id": "north-person",
   "metadata": {},
   "outputs": [],
   "source": [
    "backend_sim = Aer.get_backend('statevector_simulator')\n",
    "sim = execute(qc, backend_sim, shots=1000)\n",
    "sim_result = sim.result()"
   ]
  },
  {
   "cell_type": "code",
   "execution_count": 5,
   "id": "dying-scratch",
   "metadata": {},
   "outputs": [
    {
     "name": "stdout",
     "output_type": "stream",
     "text": [
      "[0.70710678+0.j 0.        +0.j 0.        +0.j 0.70710678+0.j]\n"
     ]
    },
    {
     "data": {
      "text/plain": [
       "0"
      ]
     },
     "execution_count": 5,
     "metadata": {},
     "output_type": "execute_result"
    }
   ],
   "source": [
    "state_vec = sim_result.get_statevector()\n",
    "print(state_vec)\n",
    "entropy(state_vec)"
   ]
  },
  {
   "cell_type": "code",
   "execution_count": 45,
   "id": "female-video",
   "metadata": {},
   "outputs": [
    {
     "data": {
      "text/plain": [
       "DensityMatrix([[0.5+0.j, 0. +0.j, 0. +0.j, 0.5+0.j],\n",
       "               [0. +0.j, 0. +0.j, 0. +0.j, 0. +0.j],\n",
       "               [0. +0.j, 0. +0.j, 0. +0.j, 0. +0.j],\n",
       "               [0.5+0.j, 0. +0.j, 0. +0.j, 0.5+0.j]],\n",
       "              dims=(2, 2))"
      ]
     },
     "execution_count": 45,
     "metadata": {},
     "output_type": "execute_result"
    }
   ],
   "source": [
    "DensityMatrix(state_vec)"
   ]
  },
  {
   "cell_type": "code",
   "execution_count": 5,
   "id": "polyphonic-biodiversity",
   "metadata": {
    "scrolled": true
   },
   "outputs": [
    {
     "data": {
      "text/plain": [
       "[0.5, 1.0, 0.0, 0.5, 1.0, 1.0, 1.0, 1.0, 1.0]"
      ]
     },
     "execution_count": 5,
     "metadata": {},
     "output_type": "execute_result"
    }
   ],
   "source": [
    "expected_outcome(qc)"
   ]
  }
 ],
 "metadata": {
  "kernelspec": {
   "display_name": "Python 3",
   "language": "python",
   "name": "python3"
  },
  "language_info": {
   "codemirror_mode": {
    "name": "ipython",
    "version": 3
   },
   "file_extension": ".py",
   "mimetype": "text/x-python",
   "name": "python",
   "nbconvert_exporter": "python",
   "pygments_lexer": "ipython3",
   "version": "3.7.9"
  }
 },
 "nbformat": 4,
 "nbformat_minor": 5
}
