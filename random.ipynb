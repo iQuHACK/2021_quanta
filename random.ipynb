{
 "cells": [
  {
   "cell_type": "code",
   "execution_count": 89,
   "id": "differential-chick",
   "metadata": {},
   "outputs": [],
   "source": [
    "import qiskit\n",
    "from qiskit import Aer, execute\n",
    "import os\n",
    "token = os.environ.get('ionq_token')\n",
    "from qiskit_ionq_provider import IonQProvider \n",
    "from qiskit.quantum_info import entropy, DensityMatrix, partial_trace\n",
    "from qiskit.visualization import plot_state_city, plot_histogram\n",
    "from entropy import entanglement_entropy as ee "
   ]
  },
  {
   "cell_type": "code",
   "execution_count": 101,
   "id": "sustainable-settle",
   "metadata": {},
   "outputs": [],
   "source": [
    "provider = IonQProvider(token=token)"
   ]
  },
  {
   "cell_type": "code",
   "execution_count": 152,
   "id": "cooperative-belarus",
   "metadata": {},
   "outputs": [
    {
     "data": {
      "text/html": [
       "<pre style=\"word-wrap: normal;white-space: pre;background: #fff0;line-height: 1.1;font-family: &quot;Courier New&quot;,Courier,monospace\">     ┌───┐          \n",
       "q_0: ┤ H ├──■────■──\n",
       "     └───┘┌─┴─┐  │  \n",
       "q_1: ─────┤ X ├──┼──\n",
       "          └───┘┌─┴─┐\n",
       "q_2: ──────────┤ X ├\n",
       "               └───┘\n",
       "c: 3/═══════════════\n",
       "                    </pre>"
      ],
      "text/plain": [
       "     ┌───┐          \n",
       "q_0: ┤ H ├──■────■──\n",
       "     └───┘┌─┴─┐  │  \n",
       "q_1: ─────┤ X ├──┼──\n",
       "          └───┘┌─┴─┐\n",
       "q_2: ──────────┤ X ├\n",
       "               └───┘\n",
       "c: 3/═══════════════\n",
       "                    "
      ]
     },
     "execution_count": 152,
     "metadata": {},
     "output_type": "execute_result"
    }
   ],
   "source": [
    "from qiskit import QuantumCircuit\n",
    "# Create a bell state circuit.\n",
    "qc = QuantumCircuit(3, 3)\n",
    "qc.h(0)\n",
    "qc.cnot(0,1)\n",
    "qc.cnot(0,2)\n",
    "# Show the circuit:\n",
    "# qc.measure([0,1,2], [0,1,2])\n",
    "qc.draw()"
   ]
  },
  {
   "cell_type": "code",
   "execution_count": 153,
   "id": "seventh-hayes",
   "metadata": {},
   "outputs": [],
   "source": [
    "state_sim = Aer.get_backend('statevector_simulator')\n",
    "sim = execute(qc, state_sim, shots=1000)\n",
    "state_sim_result = sim.result()"
   ]
  },
  {
   "cell_type": "code",
   "execution_count": 155,
   "id": "restricted-orleans",
   "metadata": {},
   "outputs": [
    {
     "data": {
      "text/plain": [
       "0.9999999999999999"
      ]
     },
     "execution_count": 155,
     "metadata": {},
     "output_type": "execute_result"
    }
   ],
   "source": [
    "state_vec = state_sim_result.get_statevector()\n",
    "# entropy(state_vec)\n",
    "entropy(partial_trace(state_vec, [0,1]))"
   ]
  },
  {
   "cell_type": "code",
   "execution_count": 149,
   "id": "forced-messaging",
   "metadata": {},
   "outputs": [],
   "source": [
    "counts_sim = Aer.get_backend(\"qasm_simulator\")\n",
    "count_sim = execute(qc, counts_sim, shots=1000)\n",
    "count_sim_result = count_sim.result()"
   ]
  },
  {
   "cell_type": "code",
   "execution_count": 150,
   "id": "imported-material",
   "metadata": {},
   "outputs": [
    {
     "data": {
      "image/png": "[encoded data removed]",
      "text/plain": [
       "<Figure size 504x360 with 1 Axes>"
      ]
     },
     "execution_count": 150,
     "metadata": {},
     "output_type": "execute_result"
    }
   ],
   "source": [
    "plot_histogram(count_sim_result.get_counts())"
   ]
  },
  {
   "cell_type": "code",
   "execution_count": null,
   "id": "commercial-falls",
   "metadata": {},
   "outputs": [],
   "source": []
  }
 ],
 "metadata": {
  "kernelspec": {
   "display_name": "Python 3",
   "language": "python",
   "name": "python3"
  },
  "language_info": {
   "codemirror_mode": {
    "name": "ipython",
    "version": 3
   },
   "file_extension": ".py",
   "mimetype": "text/x-python",
   "name": "python",
   "nbconvert_exporter": "python",
   "pygments_lexer": "ipython3",
   "version": "3.7.9"
  }
 },
 "nbformat": 4,
 "nbformat_minor": 5
}
