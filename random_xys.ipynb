{
 "cells": [
  {
   "cell_type": "code",
   "execution_count": 1,
   "id": "likely-tennessee",
   "metadata": {},
   "outputs": [],
   "source": [
    "import os\n",
    "token = os.environ.get('ionq_token')\n",
    "from qiskit_ionq_provider import IonQProvider \n",
    "#from qiskit.quantum_info import entropy, DensityMatrix, partial_trace\n",
    "#from qiskit.visualization import plot_state_city, plot_histogram, plot_bloch_multivector, plot_state_hinton\n",
    "\n",
    "provider = IonQProvider(token=token)"
   ]
  },
  {
   "cell_type": "code",
   "execution_count": 1,
   "id": "electronic-metabolism",
   "metadata": {},
   "outputs": [],
   "source": [
    "from single_shot_measurement import single_shot as ss"
   ]
  },
  {
   "cell_type": "code",
   "execution_count": 2,
   "id": "designed-maine",
   "metadata": {},
   "outputs": [
    {
     "data": {
      "text/html": [
       "<pre style=\"word-wrap: normal;white-space: pre;background: #fff0;line-height: 1.1;font-family: &quot;Courier New&quot;,Courier,monospace\">     ┌───┐        ┌─┐   \n",
       "q_0: ┤ H ├────────┤M├───\n",
       "     └───┘┌─┐     └╥┘   \n",
       "q_1: ─────┤M├──────╫────\n",
       "     ┌───┐└╥┘┌───┐ ║ ┌─┐\n",
       "q_2: ┤ X ├─╫─┤ H ├─╫─┤M├\n",
       "     └───┘ ║ └───┘ ║ └╥┘\n",
       "c: 3/══════╩═══════╩══╩═\n",
       "           1       0  2 </pre>"
      ],
      "text/plain": [
       "     ┌───┐        ┌─┐   \n",
       "q_0: ┤ H ├────────┤M├───\n",
       "     └───┘┌─┐     └╥┘   \n",
       "q_1: ─────┤M├──────╫────\n",
       "     ┌───┐└╥┘┌───┐ ║ ┌─┐\n",
       "q_2: ┤ X ├─╫─┤ H ├─╫─┤M├\n",
       "     └───┘ ║ └───┘ ║ └╥┘\n",
       "c: 3/══════╩═══════╩══╩═\n",
       "           1       0  2 "
      ]
     },
     "execution_count": 2,
     "metadata": {},
     "output_type": "execute_result"
    }
   ],
   "source": [
    "from qiskit import QuantumCircuit\n",
    "# Create a bell state circuit.\n",
    "qc = QuantumCircuit(3, 3)\n",
    "qc.h(0)\n",
    "# qc.cnot(0,1)\n",
    "qc.x(2)\n",
    "qc.h(2)\n",
    "qc.measure([0,1,2], [0,1,2])\n",
    "qc.draw()"
   ]
  },
  {
   "cell_type": "code",
   "execution_count": 10,
   "id": "simple-decimal",
   "metadata": {},
   "outputs": [],
   "source": [
    "with open(\".ionqkey.txt\") as keyfile:\n",
    "    key = keyfile.readline().strip('\\n')"
   ]
  },
  {
   "cell_type": "code",
   "execution_count": 3,
   "id": "concrete-glory",
   "metadata": {},
   "outputs": [
    {
     "name": "stdout",
     "output_type": "stream",
     "text": [
      "Job is not DONE\n",
      "Job is not DONE\n",
      "Job finished\n"
     ]
    },
    {
     "data": {
      "text/plain": [
       "{'000': 257, '001': 276, '100': 248, '101': 241, '111': 2}"
      ]
     },
     "execution_count": 3,
     "metadata": {},
     "output_type": "execute_result"
    }
   ],
   "source": [
    "ss(qc, single = False)"
   ]
  },
  {
   "cell_type": "code",
   "execution_count": 4,
   "id": "dated-alabama",
   "metadata": {},
   "outputs": [],
   "source": [
    "from qiskit import Aer, execute\n",
    "from qiskit.visualization.utils import _bloch_multivector_data\n",
    "import numpy as np\n",
    "\n",
    "def expected_outcome(circ):\n",
    "    # Caculates the probability of measurign 0 for each qubit\n",
    "    state_sim = Aer.get_backend('statevector_simulator')\n",
    "    sim = execute(circ, state_sim, shots=1000)\n",
    "    state_sim_result = sim.result()\n",
    "    state_vec = state_sim_result.get_statevector(decimals=3)\n",
    "    p0s = []\n",
    "    for kk in _bloch_multivector_data(state_vec):\n",
    "        if kk[2] != 0:\n",
    "            theta = np.arccos(kk[2]/np.sum(np.asarray(kk)**2))\n",
    "        else:\n",
    "            theta = np.pi/2\n",
    "        p0 = round(np.cos(theta/2)**2,2)\n",
    "        p0s.append(p0)\n",
    "\n",
    "    return p0s\n"
   ]
  },
  {
   "cell_type": "code",
   "execution_count": 5,
   "id": "polyphonic-biodiversity",
   "metadata": {
    "scrolled": true
   },
   "outputs": [
    {
     "data": {
      "text/plain": [
       "[0.5, 1.0, 0.0, 0.5, 1.0, 1.0, 1.0, 1.0, 1.0]"
      ]
     },
     "execution_count": 5,
     "metadata": {},
     "output_type": "execute_result"
    }
   ],
   "source": [
    "expected_outcome(qc)"
   ]
  }
 ],
 "metadata": {
  "kernelspec": {
   "display_name": "Python 3",
   "language": "python",
   "name": "python3"
  },
  "language_info": {
   "codemirror_mode": {
    "name": "ipython",
    "version": 3
   },
   "file_extension": ".py",
   "mimetype": "text/x-python",
   "name": "python",
   "nbconvert_exporter": "python",
   "pygments_lexer": "ipython3",
   "version": "3.7.9"
  }
 },
 "nbformat": 4,
 "nbformat_minor": 5
}
