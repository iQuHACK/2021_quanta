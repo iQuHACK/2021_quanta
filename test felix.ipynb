{
 "cells": [
  {
   "cell_type": "code",
   "execution_count": 1,
   "id": "least-breath",
   "metadata": {},
   "outputs": [],
   "source": [
    "from basic_ops import *\n",
    "from expected_outcom import *"
   ]
  },
  {
   "cell_type": "code",
   "execution_count": 2,
   "id": "strong-vegetation",
   "metadata": {},
   "outputs": [],
   "source": [
    "qc=initialize(3)"
   ]
  },
  {
   "cell_type": "code",
   "execution_count": 3,
   "id": "indian-sailing",
   "metadata": {},
   "outputs": [
    {
     "data": {
      "text/html": [
       "<pre style=\"word-wrap: normal;white-space: pre;background: #fff0;line-height: 1.1;font-family: &quot;Courier New&quot;,Courier,monospace\">     ┌─────────┐\n",
       "q_0: ┤ RX(π/2) ├\n",
       "     ├─────────┤\n",
       "q_1: ┤ RX(π/2) ├\n",
       "     ├─────────┤\n",
       "q_2: ┤ RX(π/2) ├\n",
       "     ├─────────┤\n",
       "q_3: ┤ RX(π/2) ├\n",
       "     ├─────────┤\n",
       "q_4: ┤ RX(π/2) ├\n",
       "     ├─────────┤\n",
       "q_5: ┤ RX(π/2) ├\n",
       "     ├─────────┤\n",
       "q_6: ┤ RX(π/2) ├\n",
       "     ├─────────┤\n",
       "q_7: ┤ RX(π/2) ├\n",
       "     ├─────────┤\n",
       "q_8: ┤ RX(π/2) ├\n",
       "     └─────────┘\n",
       "c: 9/═══════════\n",
       "                </pre>"
      ],
      "text/plain": [
       "     ┌─────────┐\n",
       "q_0: ┤ RX(π/2) ├\n",
       "     ├─────────┤\n",
       "q_1: ┤ RX(π/2) ├\n",
       "     ├─────────┤\n",
       "q_2: ┤ RX(π/2) ├\n",
       "     ├─────────┤\n",
       "q_3: ┤ RX(π/2) ├\n",
       "     ├─────────┤\n",
       "q_4: ┤ RX(π/2) ├\n",
       "     ├─────────┤\n",
       "q_5: ┤ RX(π/2) ├\n",
       "     ├─────────┤\n",
       "q_6: ┤ RX(π/2) ├\n",
       "     ├─────────┤\n",
       "q_7: ┤ RX(π/2) ├\n",
       "     ├─────────┤\n",
       "q_8: ┤ RX(π/2) ├\n",
       "     └─────────┘\n",
       "c: 9/═══════════\n",
       "                "
      ]
     },
     "execution_count": 3,
     "metadata": {},
     "output_type": "execute_result"
    }
   ],
   "source": [
    "qc.draw()"
   ]
  },
  {
   "cell_type": "code",
   "execution_count": 4,
   "id": "hollow-bread",
   "metadata": {},
   "outputs": [
    {
     "data": {
      "text/html": [
       "<pre style=\"word-wrap: normal;white-space: pre;background: #fff0;line-height: 1.1;font-family: &quot;Courier New&quot;,Courier,monospace\">     ┌─────────┐     \n",
       "q_0: ┤ RX(π/2) ├─────\n",
       "     ├─────────┤     \n",
       "q_1: ┤ RX(π/2) ├─────\n",
       "     ├─────────┤     \n",
       "q_2: ┤ RX(π/2) ├─────\n",
       "     ├─────────┤     \n",
       "q_3: ┤ RX(π/2) ├─────\n",
       "     ├─────────┤     \n",
       "q_4: ┤ RX(π/2) ├─────\n",
       "     ├─────────┤     \n",
       "q_5: ┤ RX(π/2) ├─────\n",
       "     ├─────────┤     \n",
       "q_6: ┤ RX(π/2) ├─────\n",
       "     ├─────────┤     \n",
       "q_7: ┤ RX(π/2) ├──■──\n",
       "     ├─────────┤┌─┴─┐\n",
       "q_8: ┤ RX(π/2) ├┤ X ├\n",
       "     └─────────┘└───┘\n",
       "c: 9/════════════════\n",
       "                     </pre>"
      ],
      "text/plain": [
       "     ┌─────────┐     \n",
       "q_0: ┤ RX(π/2) ├─────\n",
       "     ├─────────┤     \n",
       "q_1: ┤ RX(π/2) ├─────\n",
       "     ├─────────┤     \n",
       "q_2: ┤ RX(π/2) ├─────\n",
       "     ├─────────┤     \n",
       "q_3: ┤ RX(π/2) ├─────\n",
       "     ├─────────┤     \n",
       "q_4: ┤ RX(π/2) ├─────\n",
       "     ├─────────┤     \n",
       "q_5: ┤ RX(π/2) ├─────\n",
       "     ├─────────┤     \n",
       "q_6: ┤ RX(π/2) ├─────\n",
       "     ├─────────┤     \n",
       "q_7: ┤ RX(π/2) ├──■──\n",
       "     ├─────────┤┌─┴─┐\n",
       "q_8: ┤ RX(π/2) ├┤ X ├\n",
       "     └─────────┘└───┘\n",
       "c: 9/════════════════\n",
       "                     "
      ]
     },
     "execution_count": 4,
     "metadata": {},
     "output_type": "execute_result"
    }
   ],
   "source": [
    "qc=add_cnot(qc,7,8)\n",
    "qc.draw()"
   ]
  },
  {
   "cell_type": "code",
   "execution_count": 5,
   "id": "sudden-sessions",
   "metadata": {},
   "outputs": [
    {
     "data": {
      "text/html": [
       "<pre style=\"word-wrap: normal;white-space: pre;background: #fff0;line-height: 1.1;font-family: &quot;Courier New&quot;,Courier,monospace\">     ┌─────────┐           \n",
       "q_0: ┤ RX(π/2) ├───────────\n",
       "     ├─────────┤           \n",
       "q_1: ┤ RX(π/2) ├───────────\n",
       "     ├─────────┤           \n",
       "q_2: ┤ RX(π/2) ├───────────\n",
       "     ├─────────┤           \n",
       "q_3: ┤ RX(π/2) ├───────────\n",
       "     ├─────────┤           \n",
       "q_4: ┤ RX(π/2) ├───────────\n",
       "     ├─────────┤           \n",
       "q_5: ┤ RX(π/2) ├───────────\n",
       "     ├─────────┤┌─────────┐\n",
       "q_6: ┤ RX(π/2) ├┤ RX(π/2) ├\n",
       "     ├─────────┤└─────────┘\n",
       "q_7: ┤ RX(π/2) ├─────■─────\n",
       "     ├─────────┤   ┌─┴─┐   \n",
       "q_8: ┤ RX(π/2) ├───┤ X ├───\n",
       "     └─────────┘   └───┘   \n",
       "c: 9/══════════════════════\n",
       "                           </pre>"
      ],
      "text/plain": [
       "     ┌─────────┐           \n",
       "q_0: ┤ RX(π/2) ├───────────\n",
       "     ├─────────┤           \n",
       "q_1: ┤ RX(π/2) ├───────────\n",
       "     ├─────────┤           \n",
       "q_2: ┤ RX(π/2) ├───────────\n",
       "     ├─────────┤           \n",
       "q_3: ┤ RX(π/2) ├───────────\n",
       "     ├─────────┤           \n",
       "q_4: ┤ RX(π/2) ├───────────\n",
       "     ├─────────┤           \n",
       "q_5: ┤ RX(π/2) ├───────────\n",
       "     ├─────────┤┌─────────┐\n",
       "q_6: ┤ RX(π/2) ├┤ RX(π/2) ├\n",
       "     ├─────────┤└─────────┘\n",
       "q_7: ┤ RX(π/2) ├─────■─────\n",
       "     ├─────────┤   ┌─┴─┐   \n",
       "q_8: ┤ RX(π/2) ├───┤ X ├───\n",
       "     └─────────┘   └───┘   \n",
       "c: 9/══════════════════════\n",
       "                           "
      ]
     },
     "execution_count": 5,
     "metadata": {},
     "output_type": "execute_result"
    }
   ],
   "source": [
    "qc=add_rx(qc,1,6)\n",
    "qc.draw()"
   ]
  },
  {
   "cell_type": "code",
   "execution_count": 6,
   "id": "monetary-evolution",
   "metadata": {},
   "outputs": [
    {
     "data": {
      "text/html": [
       "<pre style=\"word-wrap: normal;white-space: pre;background: #fff0;line-height: 1.1;font-family: &quot;Courier New&quot;,Courier,monospace\">     ┌─────────┐            \n",
       "q_0: ┤ RX(π/2) ├────────────\n",
       "     ├─────────┤            \n",
       "q_1: ┤ RX(π/2) ├────────────\n",
       "     ├─────────┤            \n",
       "q_2: ┤ RX(π/2) ├────────────\n",
       "     ├─────────┤            \n",
       "q_3: ┤ RX(π/2) ├────────────\n",
       "     ├─────────┤            \n",
       "q_4: ┤ RX(π/2) ├────────────\n",
       "     ├─────────┤┌──────────┐\n",
       "q_5: ┤ RX(π/2) ├┤ RX(-π/2) ├\n",
       "     ├─────────┤├─────────┬┘\n",
       "q_6: ┤ RX(π/2) ├┤ RX(π/2) ├─\n",
       "     ├─────────┤└─────────┘ \n",
       "q_7: ┤ RX(π/2) ├─────■──────\n",
       "     ├─────────┤   ┌─┴─┐    \n",
       "q_8: ┤ RX(π/2) ├───┤ X ├────\n",
       "     └─────────┘   └───┘    \n",
       "c: 9/═══════════════════════\n",
       "                            </pre>"
      ],
      "text/plain": [
       "     ┌─────────┐            \n",
       "q_0: ┤ RX(π/2) ├────────────\n",
       "     ├─────────┤            \n",
       "q_1: ┤ RX(π/2) ├────────────\n",
       "     ├─────────┤            \n",
       "q_2: ┤ RX(π/2) ├────────────\n",
       "     ├─────────┤            \n",
       "q_3: ┤ RX(π/2) ├────────────\n",
       "     ├─────────┤            \n",
       "q_4: ┤ RX(π/2) ├────────────\n",
       "     ├─────────┤┌──────────┐\n",
       "q_5: ┤ RX(π/2) ├┤ RX(-π/2) ├\n",
       "     ├─────────┤├─────────┬┘\n",
       "q_6: ┤ RX(π/2) ├┤ RX(π/2) ├─\n",
       "     ├─────────┤└─────────┘ \n",
       "q_7: ┤ RX(π/2) ├─────■──────\n",
       "     ├─────────┤   ┌─┴─┐    \n",
       "q_8: ┤ RX(π/2) ├───┤ X ├────\n",
       "     └─────────┘   └───┘    \n",
       "c: 9/═══════════════════════\n",
       "                            "
      ]
     },
     "execution_count": 6,
     "metadata": {},
     "output_type": "execute_result"
    }
   ],
   "source": [
    "qc=add_rx(qc,0,5)\n",
    "qc.draw()"
   ]
  },
  {
   "cell_type": "code",
   "execution_count": 18,
   "id": "suitable-medicine",
   "metadata": {},
   "outputs": [],
   "source": [
    "qc=add_measurement(qc,3)"
   ]
  },
  {
   "cell_type": "code",
   "execution_count": 9,
   "id": "accessory-original",
   "metadata": {},
   "outputs": [
    {
     "data": {
      "image/png": "[encoded data removed]",
      "text/plain": [
       "<Figure size 504x360 with 1 Axes>"
      ]
     },
     "execution_count": 9,
     "metadata": {},
     "output_type": "execute_result"
    }
   ],
   "source": [
    "# Get an IonQ simulator backend to run circuits on:\n",
    "backend = provider.get_backend(\"ionq_simulator\")\n",
    "\n",
    "# Then run the circuit:\n",
    "job = backend.run(qc, shots=1000)\n",
    "\n",
    "#save job_id\n",
    "job_id_trial = job.job_id()\n",
    "\n",
    "# Fetch the result:\n",
    "result = job.result()\n",
    "# histogram\n",
    "plot_histogram(result.get_counts())"
   ]
  },
  {
   "cell_type": "code",
   "execution_count": 18,
   "id": "higher-surfing",
   "metadata": {},
   "outputs": [
    {
     "data": {
      "text/plain": [
       "[0.5, 0.5, 0.5, 0.5, 0.5, 1.0, 0.0, nan, nan]"
      ]
     },
     "execution_count": 18,
     "metadata": {},
     "output_type": "execute_result"
    }
   ],
   "source": [
    "expected_outcome(qc)"
   ]
  },
  {
   "cell_type": "code",
   "execution_count": 21,
   "id": "adjustable-hanging",
   "metadata": {},
   "outputs": [
    {
     "data": {
      "text/html": [
       "<pre style=\"word-wrap: normal;white-space: pre;background: #fff0;line-height: 1.1;font-family: &quot;Courier New&quot;,Courier,monospace\">     ┌───┐                                                            »\n",
       "q_0: ┤ H ├────────────────────────────────────────────────────────────»\n",
       "     ├───┤                                                            »\n",
       "q_1: ┤ H ├────────────────────────────────────────────────────────────»\n",
       "     ├───┤                                                            »\n",
       "q_2: ┤ H ├────────────────────────────────────────────────────────────»\n",
       "     ├───┤┌─────────┐ ┌──────────┐┌──────────┐┌──────────┐┌──────────┐»\n",
       "q_3: ┤ H ├┤ RY(π/2) ├─┤ RY(-π/2) ├┤ RY(-π/2) ├┤ RY(-π/2) ├┤ RY(-π/2) ├»\n",
       "     ├───┤├─────────┤ ├─────────┬┘└──────────┘└──────────┘└──────────┘»\n",
       "q_4: ┤ H ├┤ RY(π/2) ├─┤ RY(π/2) ├─────────────────────────────────────»\n",
       "     ├───┤├─────────┴┐└─────────┘                                     »\n",
       "q_5: ┤ H ├┤ RX(-π/2) ├────────────────────────────────────────────────»\n",
       "     ├───┤├─────────┬┘                                                »\n",
       "q_6: ┤ H ├┤ RX(π/2) ├─────────────────────────────────────────────────»\n",
       "     ├───┤└─────────┘                                                 »\n",
       "q_7: ┤ H ├─────■──────────────────────────────────────────────────────»\n",
       "     ├───┤   ┌─┴─┐                                                    »\n",
       "q_8: ┤ H ├───┤ X ├────────────────────────────────────────────────────»\n",
       "     └───┘   └───┘                                                    »\n",
       "c: 9/═════════════════════════════════════════════════════════════════»\n",
       "                                                                      »\n",
       "«                 \n",
       "«q_0: ────────────\n",
       "«                 \n",
       "«q_1: ────────────\n",
       "«                 \n",
       "«q_2: ────────────\n",
       "«     ┌──────────┐\n",
       "«q_3: ┤ RY(-π/2) ├\n",
       "«     └──────────┘\n",
       "«q_4: ────────────\n",
       "«                 \n",
       "«q_5: ────────────\n",
       "«                 \n",
       "«q_6: ────────────\n",
       "«                 \n",
       "«q_7: ────────────\n",
       "«                 \n",
       "«q_8: ────────────\n",
       "«                 \n",
       "«c: 9/════════════\n",
       "«                 </pre>"
      ],
      "text/plain": [
       "     ┌───┐                                                            »\n",
       "q_0: ┤ H ├────────────────────────────────────────────────────────────»\n",
       "     ├───┤                                                            »\n",
       "q_1: ┤ H ├────────────────────────────────────────────────────────────»\n",
       "     ├───┤                                                            »\n",
       "q_2: ┤ H ├────────────────────────────────────────────────────────────»\n",
       "     ├───┤┌─────────┐ ┌──────────┐┌──────────┐┌──────────┐┌──────────┐»\n",
       "q_3: ┤ H ├┤ RY(π/2) ├─┤ RY(-π/2) ├┤ RY(-π/2) ├┤ RY(-π/2) ├┤ RY(-π/2) ├»\n",
       "     ├───┤├─────────┤ ├─────────┬┘└──────────┘└──────────┘└──────────┘»\n",
       "q_4: ┤ H ├┤ RY(π/2) ├─┤ RY(π/2) ├─────────────────────────────────────»\n",
       "     ├───┤├─────────┴┐└─────────┘                                     »\n",
       "q_5: ┤ H ├┤ RX(-π/2) ├────────────────────────────────────────────────»\n",
       "     ├───┤├─────────┬┘                                                »\n",
       "q_6: ┤ H ├┤ RX(π/2) ├─────────────────────────────────────────────────»\n",
       "     ├───┤└─────────┘                                                 »\n",
       "q_7: ┤ H ├─────■──────────────────────────────────────────────────────»\n",
       "     ├───┤   ┌─┴─┐                                                    »\n",
       "q_8: ┤ H ├───┤ X ├────────────────────────────────────────────────────»\n",
       "     └───┘   └───┘                                                    »\n",
       "c: 9/═════════════════════════════════════════════════════════════════»\n",
       "                                                                      »\n",
       "«                 \n",
       "«q_0: ────────────\n",
       "«                 \n",
       "«q_1: ────────────\n",
       "«                 \n",
       "«q_2: ────────────\n",
       "«     ┌──────────┐\n",
       "«q_3: ┤ RY(-π/2) ├\n",
       "«     └──────────┘\n",
       "«q_4: ────────────\n",
       "«                 \n",
       "«q_5: ────────────\n",
       "«                 \n",
       "«q_6: ────────────\n",
       "«                 \n",
       "«q_7: ────────────\n",
       "«                 \n",
       "«q_8: ────────────\n",
       "«                 \n",
       "«c: 9/════════════\n",
       "«                 "
      ]
     },
     "execution_count": 21,
     "metadata": {},
     "output_type": "execute_result"
    }
   ],
   "source": [
    "qc.ry(-math.pi/2.,3)\n",
    "qc.draw()"
   ]
  },
  {
   "cell_type": "code",
   "execution_count": 19,
   "id": "legal-duncan",
   "metadata": {},
   "outputs": [],
   "source": [
    "def test_win(list): #return 0 for player 0 win, 1 for player 1 win, 2 for tie or neither wins\n",
    "    win1=0\n",
    "    win0=0\n",
    "    if list[0]==list[1]==list[2]:\n",
    "        if list[1]==1:\n",
    "            win1+=1\n",
    "        else:\n",
    "            win0+=1\n",
    "    if list[3]==list[4]==list[5]:\n",
    "        if list[3]==1:\n",
    "            win1+=1\n",
    "        else:\n",
    "            win0=1\n",
    "    if list[6]==list[7]==list[8]:\n",
    "        if list[6]==1:\n",
    "            win1+=1\n",
    "        else:\n",
    "            win0+=1\n",
    "    if list[0]==list[4]==list[8]:\n",
    "        if list[0]==1:\n",
    "            win1+=1\n",
    "        else:\n",
    "            win0+=1\n",
    "    if list[2]==list[4]==list[6]:\n",
    "        if list[2]==1:\n",
    "            win1+=1\n",
    "        else:\n",
    "            win0=1\n",
    "    if list[0]==list[3]==list[6]:\n",
    "        if list[0]==1:\n",
    "            win1+=1\n",
    "        else:\n",
    "            win0+=1\n",
    "    if list[1]==list[4]==list[7]:\n",
    "        if list[1]==1:\n",
    "            win1+=1\n",
    "        else:\n",
    "            win0+=1\n",
    "    if list[2]==list[5]==list[8]:\n",
    "        if list[2]==1:\n",
    "            win1+=1\n",
    "        else:\n",
    "            win0+=1\n",
    "    print(win1)\n",
    "    print(win0)\n",
    "    if win1>win0:\n",
    "        return 1\n",
    "    elif win0>win1:\n",
    "        return 0\n",
    "    else:\n",
    "        return 2\n",
    "    "
   ]
  },
  {
   "cell_type": "code",
   "execution_count": 20,
   "id": "swiss-disco",
   "metadata": {},
   "outputs": [
    {
     "name": "stdout",
     "output_type": "stream",
     "text": [
      "1\n",
      "2\n"
     ]
    },
    {
     "data": {
      "text/plain": [
       "0"
      ]
     },
     "execution_count": 20,
     "metadata": {},
     "output_type": "execute_result"
    }
   ],
   "source": [
    "list=[1,1,1,0,0,0,0,0,0]\n",
    "test_win(list)"
   ]
  },
  {
   "cell_type": "code",
   "execution_count": null,
   "id": "chronic-restaurant",
   "metadata": {},
   "outputs": [],
   "source": []
  }
 ],
 "metadata": {
  "kernelspec": {
   "display_name": "Python 3",
   "language": "python",
   "name": "python3"
  },
  "language_info": {
   "codemirror_mode": {
    "name": "ipython",
    "version": 3
   },
   "file_extension": ".py",
   "mimetype": "text/x-python",
   "name": "python",
   "nbconvert_exporter": "python",
   "pygments_lexer": "ipython3",
   "version": "3.7.9"
  }
 },
 "nbformat": 4,
 "nbformat_minor": 5
}
