{
 "cells": [
  {
   "cell_type": "code",
   "execution_count": 1,
   "id": "least-breath",
   "metadata": {},
   "outputs": [],
   "source": [
    "from basic_ops import *\n",
    "from expected_outcom import *"
   ]
  },
  {
   "cell_type": "code",
   "execution_count": 2,
   "id": "strong-vegetation",
   "metadata": {},
   "outputs": [],
   "source": [
    "qc=initialize(3)"
   ]
  },
  {
   "cell_type": "code",
   "execution_count": 3,
   "id": "indian-sailing",
   "metadata": {},
   "outputs": [
    {
     "data": {
      "text/html": [
       "<pre style=\"word-wrap: normal;white-space: pre;background: #fff0;line-height: 1.1;font-family: &quot;Courier New&quot;,Courier,monospace\">     ┌─────────┐\n",
       "q_0: ┤ RX(π/2) ├\n",
       "     ├─────────┤\n",
       "q_1: ┤ RX(π/2) ├\n",
       "     ├─────────┤\n",
       "q_2: ┤ RX(π/2) ├\n",
       "     ├─────────┤\n",
       "q_3: ┤ RX(π/2) ├\n",
       "     ├─────────┤\n",
       "q_4: ┤ RX(π/2) ├\n",
       "     ├─────────┤\n",
       "q_5: ┤ RX(π/2) ├\n",
       "     ├─────────┤\n",
       "q_6: ┤ RX(π/2) ├\n",
       "     ├─────────┤\n",
       "q_7: ┤ RX(π/2) ├\n",
       "     ├─────────┤\n",
       "q_8: ┤ RX(π/2) ├\n",
       "     └─────────┘\n",
       "c: 9/═══════════\n",
       "                </pre>"
      ],
      "text/plain": [
       "     ┌─────────┐\n",
       "q_0: ┤ RX(π/2) ├\n",
       "     ├─────────┤\n",
       "q_1: ┤ RX(π/2) ├\n",
       "     ├─────────┤\n",
       "q_2: ┤ RX(π/2) ├\n",
       "     ├─────────┤\n",
       "q_3: ┤ RX(π/2) ├\n",
       "     ├─────────┤\n",
       "q_4: ┤ RX(π/2) ├\n",
       "     ├─────────┤\n",
       "q_5: ┤ RX(π/2) ├\n",
       "     ├─────────┤\n",
       "q_6: ┤ RX(π/2) ├\n",
       "     ├─────────┤\n",
       "q_7: ┤ RX(π/2) ├\n",
       "     ├─────────┤\n",
       "q_8: ┤ RX(π/2) ├\n",
       "     └─────────┘\n",
       "c: 9/═══════════\n",
       "                "
      ]
     },
     "execution_count": 3,
     "metadata": {},
     "output_type": "execute_result"
    }
   ],
   "source": [
    "qc.draw()"
   ]
  },
  {
   "cell_type": "code",
   "execution_count": 4,
   "id": "hollow-bread",
   "metadata": {},
   "outputs": [
    {
     "data": {
      "text/html": [
       "<pre style=\"word-wrap: normal;white-space: pre;background: #fff0;line-height: 1.1;font-family: &quot;Courier New&quot;,Courier,monospace\">     ┌─────────┐     \n",
       "q_0: ┤ RX(π/2) ├─────\n",
       "     ├─────────┤     \n",
       "q_1: ┤ RX(π/2) ├─────\n",
       "     ├─────────┤     \n",
       "q_2: ┤ RX(π/2) ├─────\n",
       "     ├─────────┤     \n",
       "q_3: ┤ RX(π/2) ├─────\n",
       "     ├─────────┤     \n",
       "q_4: ┤ RX(π/2) ├─────\n",
       "     ├─────────┤     \n",
       "q_5: ┤ RX(π/2) ├─────\n",
       "     ├─────────┤     \n",
       "q_6: ┤ RX(π/2) ├─────\n",
       "     ├─────────┤     \n",
       "q_7: ┤ RX(π/2) ├──■──\n",
       "     ├─────────┤┌─┴─┐\n",
       "q_8: ┤ RX(π/2) ├┤ X ├\n",
       "     └─────────┘└───┘\n",
       "c: 9/════════════════\n",
       "                     </pre>"
      ],
      "text/plain": [
       "     ┌─────────┐     \n",
       "q_0: ┤ RX(π/2) ├─────\n",
       "     ├─────────┤     \n",
       "q_1: ┤ RX(π/2) ├─────\n",
       "     ├─────────┤     \n",
       "q_2: ┤ RX(π/2) ├─────\n",
       "     ├─────────┤     \n",
       "q_3: ┤ RX(π/2) ├─────\n",
       "     ├─────────┤     \n",
       "q_4: ┤ RX(π/2) ├─────\n",
       "     ├─────────┤     \n",
       "q_5: ┤ RX(π/2) ├─────\n",
       "     ├─────────┤     \n",
       "q_6: ┤ RX(π/2) ├─────\n",
       "     ├─────────┤     \n",
       "q_7: ┤ RX(π/2) ├──■──\n",
       "     ├─────────┤┌─┴─┐\n",
       "q_8: ┤ RX(π/2) ├┤ X ├\n",
       "     └─────────┘└───┘\n",
       "c: 9/════════════════\n",
       "                     "
      ]
     },
     "execution_count": 4,
     "metadata": {},
     "output_type": "execute_result"
    }
   ],
   "source": [
    "qc=add_cnot(qc,7,8)\n",
    "qc.draw()"
   ]
  },
  {
   "cell_type": "code",
   "execution_count": 5,
   "id": "sudden-sessions",
   "metadata": {},
   "outputs": [
    {
     "data": {
      "text/html": [
       "<pre style=\"word-wrap: normal;white-space: pre;background: #fff0;line-height: 1.1;font-family: &quot;Courier New&quot;,Courier,monospace\">     ┌─────────┐             \n",
       "q_0: ┤ RX(π/2) ├─────────────\n",
       "     ├─────────┤             \n",
       "q_1: ┤ RX(π/2) ├─────────────\n",
       "     ├─────────┤             \n",
       "q_2: ┤ RX(π/2) ├─────────────\n",
       "     ├─────────┤             \n",
       "q_3: ┤ RX(π/2) ├─────────────\n",
       "     ├─────────┤             \n",
       "q_4: ┤ RX(π/2) ├─────────────\n",
       "     ├─────────┤             \n",
       "q_5: ┤ RX(π/2) ├─────────────\n",
       "     ├─────────┤┌───────────┐\n",
       "q_6: ┤ RX(π/2) ├┤ RX(1.405) ├\n",
       "     ├─────────┤└───────────┘\n",
       "q_7: ┤ RX(π/2) ├──────■──────\n",
       "     ├─────────┤    ┌─┴─┐    \n",
       "q_8: ┤ RX(π/2) ├────┤ X ├────\n",
       "     └─────────┘    └───┘    \n",
       "c: 9/════════════════════════\n",
       "                             </pre>"
      ],
      "text/plain": [
       "     ┌─────────┐             \n",
       "q_0: ┤ RX(π/2) ├─────────────\n",
       "     ├─────────┤             \n",
       "q_1: ┤ RX(π/2) ├─────────────\n",
       "     ├─────────┤             \n",
       "q_2: ┤ RX(π/2) ├─────────────\n",
       "     ├─────────┤             \n",
       "q_3: ┤ RX(π/2) ├─────────────\n",
       "     ├─────────┤             \n",
       "q_4: ┤ RX(π/2) ├─────────────\n",
       "     ├─────────┤             \n",
       "q_5: ┤ RX(π/2) ├─────────────\n",
       "     ├─────────┤┌───────────┐\n",
       "q_6: ┤ RX(π/2) ├┤ RX(1.405) ├\n",
       "     ├─────────┤└───────────┘\n",
       "q_7: ┤ RX(π/2) ├──────■──────\n",
       "     ├─────────┤    ┌─┴─┐    \n",
       "q_8: ┤ RX(π/2) ├────┤ X ├────\n",
       "     └─────────┘    └───┘    \n",
       "c: 9/════════════════════════\n",
       "                             "
      ]
     },
     "execution_count": 5,
     "metadata": {},
     "output_type": "execute_result"
    }
   ],
   "source": [
    "qc=add_rx(qc,1,6)\n",
    "qc.draw()"
   ]
  },
  {
   "cell_type": "code",
   "execution_count": 6,
   "id": "monetary-evolution",
   "metadata": {},
   "outputs": [
    {
     "data": {
      "text/html": [
       "<pre style=\"word-wrap: normal;white-space: pre;background: #fff0;line-height: 1.1;font-family: &quot;Courier New&quot;,Courier,monospace\">     ┌─────────┐              \n",
       "q_0: ┤ RX(π/2) ├──────────────\n",
       "     ├─────────┤              \n",
       "q_1: ┤ RX(π/2) ├──────────────\n",
       "     ├─────────┤              \n",
       "q_2: ┤ RX(π/2) ├──────────────\n",
       "     ├─────────┤              \n",
       "q_3: ┤ RX(π/2) ├──────────────\n",
       "     ├─────────┤              \n",
       "q_4: ┤ RX(π/2) ├──────────────\n",
       "     ├─────────┤┌────────────┐\n",
       "q_5: ┤ RX(π/2) ├┤ RX(-1.405) ├\n",
       "     ├─────────┤├───────────┬┘\n",
       "q_6: ┤ RX(π/2) ├┤ RX(1.405) ├─\n",
       "     ├─────────┤└───────────┘ \n",
       "q_7: ┤ RX(π/2) ├──────■───────\n",
       "     ├─────────┤    ┌─┴─┐     \n",
       "q_8: ┤ RX(π/2) ├────┤ X ├─────\n",
       "     └─────────┘    └───┘     \n",
       "c: 9/═════════════════════════\n",
       "                              </pre>"
      ],
      "text/plain": [
       "     ┌─────────┐              \n",
       "q_0: ┤ RX(π/2) ├──────────────\n",
       "     ├─────────┤              \n",
       "q_1: ┤ RX(π/2) ├──────────────\n",
       "     ├─────────┤              \n",
       "q_2: ┤ RX(π/2) ├──────────────\n",
       "     ├─────────┤              \n",
       "q_3: ┤ RX(π/2) ├──────────────\n",
       "     ├─────────┤              \n",
       "q_4: ┤ RX(π/2) ├──────────────\n",
       "     ├─────────┤┌────────────┐\n",
       "q_5: ┤ RX(π/2) ├┤ RX(-1.405) ├\n",
       "     ├─────────┤├───────────┬┘\n",
       "q_6: ┤ RX(π/2) ├┤ RX(1.405) ├─\n",
       "     ├─────────┤└───────────┘ \n",
       "q_7: ┤ RX(π/2) ├──────■───────\n",
       "     ├─────────┤    ┌─┴─┐     \n",
       "q_8: ┤ RX(π/2) ├────┤ X ├─────\n",
       "     └─────────┘    └───┘     \n",
       "c: 9/═════════════════════════\n",
       "                              "
      ]
     },
     "execution_count": 6,
     "metadata": {},
     "output_type": "execute_result"
    }
   ],
   "source": [
    "qc=add_rx(qc,0,5)\n",
    "qc.draw()"
   ]
  },
  {
   "cell_type": "code",
   "execution_count": 18,
   "id": "suitable-medicine",
   "metadata": {},
   "outputs": [],
   "source": [
    "qc=add_measurement(qc,3)"
   ]
  },
  {
   "cell_type": "code",
   "execution_count": 9,
   "id": "accessory-original",
   "metadata": {},
   "outputs": [
    {
     "data": {
      "image/png": "[encoded data removed]",
      "text/plain": [
       "<Figure size 504x360 with 1 Axes>"
      ]
     },
     "execution_count": 9,
     "metadata": {},
     "output_type": "execute_result"
    }
   ],
   "source": [
    "# Get an IonQ simulator backend to run circuits on:\n",
    "backend = provider.get_backend(\"ionq_simulator\")\n",
    "\n",
    "# Then run the circuit:\n",
    "job = backend.run(qc, shots=1000)\n",
    "\n",
    "#save job_id\n",
    "job_id_trial = job.job_id()\n",
    "\n",
    "# Fetch the result:\n",
    "result = job.result()\n",
    "# histogram\n",
    "plot_histogram(result.get_counts())"
   ]
  },
  {
   "cell_type": "code",
   "execution_count": 7,
   "id": "higher-surfing",
   "metadata": {},
   "outputs": [
    {
     "ename": "TypeError",
     "evalue": "floor() takes exactly one argument (2 given)",
     "output_type": "error",
     "traceback": [
      "\u001b[0;31m---------------------------------------------------------------------------\u001b[0m",
      "\u001b[0;31mTypeError\u001b[0m                                 Traceback (most recent call last)",
      "\u001b[0;32m<ipython-input-7-e9c59d74e519>\u001b[0m in \u001b[0;36m<module>\u001b[0;34m\u001b[0m\n\u001b[0;32m----> 1\u001b[0;31m \u001b[0mexpected_outcome\u001b[0m\u001b[0;34m(\u001b[0m\u001b[0mqc\u001b[0m\u001b[0;34m)\u001b[0m\u001b[0;34m\u001b[0m\u001b[0;34m\u001b[0m\u001b[0m\n\u001b[0m",
      "\u001b[0;32m~/Documents/GitHub/2021_quanta/expected_outcom.py\u001b[0m in \u001b[0;36mexpected_outcome\u001b[0;34m(circ)\u001b[0m\n\u001b[1;32m     14\u001b[0m         \u001b[0;32mif\u001b[0m \u001b[0mkk\u001b[0m\u001b[0;34m[\u001b[0m\u001b[0;36m2\u001b[0m\u001b[0;34m]\u001b[0m \u001b[0;34m!=\u001b[0m \u001b[0;36m0\u001b[0m\u001b[0;34m:\u001b[0m\u001b[0;34m\u001b[0m\u001b[0;34m\u001b[0m\u001b[0m\n\u001b[1;32m     15\u001b[0m             \u001b[0;32mif\u001b[0m \u001b[0mkk\u001b[0m\u001b[0;34m[\u001b[0m\u001b[0;36m2\u001b[0m\u001b[0;34m]\u001b[0m \u001b[0;34m>\u001b[0m \u001b[0;36m0\u001b[0m\u001b[0;34m:\u001b[0m\u001b[0;34m\u001b[0m\u001b[0;34m\u001b[0m\u001b[0m\n\u001b[0;32m---> 16\u001b[0;31m                 \u001b[0mtheta\u001b[0m \u001b[0;34m=\u001b[0m \u001b[0mnp\u001b[0m\u001b[0;34m.\u001b[0m\u001b[0marccos\u001b[0m\u001b[0;34m(\u001b[0m\u001b[0mmath\u001b[0m\u001b[0;34m.\u001b[0m\u001b[0mfloor\u001b[0m\u001b[0;34m(\u001b[0m\u001b[0mkk\u001b[0m\u001b[0;34m[\u001b[0m\u001b[0;36m2\u001b[0m\u001b[0;34m]\u001b[0m\u001b[0;34m/\u001b[0m\u001b[0mnp\u001b[0m\u001b[0;34m.\u001b[0m\u001b[0msum\u001b[0m\u001b[0;34m(\u001b[0m\u001b[0mnp\u001b[0m\u001b[0;34m.\u001b[0m\u001b[0masarray\u001b[0m\u001b[0;34m(\u001b[0m\u001b[0mkk\u001b[0m\u001b[0;34m)\u001b[0m\u001b[0;34m**\u001b[0m\u001b[0;36m2\u001b[0m\u001b[0;34m)\u001b[0m\u001b[0;34m,\u001b[0m \u001b[0;36m3\u001b[0m\u001b[0;34m)\u001b[0m\u001b[0;34m)\u001b[0m\u001b[0;34m\u001b[0m\u001b[0;34m\u001b[0m\u001b[0m\n\u001b[0m\u001b[1;32m     17\u001b[0m             \u001b[0;32melse\u001b[0m\u001b[0;34m:\u001b[0m\u001b[0;34m\u001b[0m\u001b[0;34m\u001b[0m\u001b[0m\n\u001b[1;32m     18\u001b[0m                 \u001b[0mtheta\u001b[0m \u001b[0;34m=\u001b[0m \u001b[0mnp\u001b[0m\u001b[0;34m.\u001b[0m\u001b[0marccos\u001b[0m\u001b[0;34m(\u001b[0m\u001b[0mmath\u001b[0m\u001b[0;34m.\u001b[0m\u001b[0mceil\u001b[0m\u001b[0;34m(\u001b[0m\u001b[0mkk\u001b[0m\u001b[0;34m[\u001b[0m\u001b[0;36m2\u001b[0m\u001b[0;34m]\u001b[0m\u001b[0;34m/\u001b[0m\u001b[0mnp\u001b[0m\u001b[0;34m.\u001b[0m\u001b[0msum\u001b[0m\u001b[0;34m(\u001b[0m\u001b[0mnp\u001b[0m\u001b[0;34m.\u001b[0m\u001b[0masarray\u001b[0m\u001b[0;34m(\u001b[0m\u001b[0mkk\u001b[0m\u001b[0;34m)\u001b[0m\u001b[0;34m**\u001b[0m\u001b[0;36m2\u001b[0m\u001b[0;34m)\u001b[0m\u001b[0;34m,\u001b[0m \u001b[0;36m3\u001b[0m\u001b[0;34m)\u001b[0m\u001b[0;34m)\u001b[0m\u001b[0;34m\u001b[0m\u001b[0;34m\u001b[0m\u001b[0m\n",
      "\u001b[0;31mTypeError\u001b[0m: floor() takes exactly one argument (2 given)"
     ]
    }
   ],
   "source": [
    "expected_outcome(qc)"
   ]
  },
  {
   "cell_type": "code",
   "execution_count": 25,
   "id": "furnished-plaintiff",
   "metadata": {},
   "outputs": [],
   "source": [
    "from qiskit import Aer, execute\n",
    "from qiskit.visualization.utils import _bloch_multivector_data\n",
    "import numpy as np\n",
    "\n",
    "# Caculates the probability of measurign 0 for each qubit\n",
    "state_sim = Aer.get_backend('statevector_simulator')\n",
    "sim = execute(qc, state_sim, shots=1000)\n",
    "state_sim_result = sim.result()\n",
    "state_vec = state_sim_result.get_statevector(decimals=3)\n",
    "p0s = []\n",
    "for kk in _bloch_multivector_data(state_vec):\n",
    "    if kk[2] != 0:\n",
    "        theta = np.arccos(round(kk[2]/np.sum(np.asarray(kk)**2), 3))\n",
    "    else:\n",
    "        theta = np.pi/2\n",
    "    p0 = round(np.cos(theta/2)**2,2)\n",
    "    p0s.append(p0)\n"
   ]
  },
  {
   "cell_type": "code",
   "execution_count": 26,
   "id": "endangered-dimension",
   "metadata": {},
   "outputs": [
    {
     "data": {
      "image/png": "[encoded data removed]",
      "text/plain": [
       "<Figure size 1152x144 with 9 Axes>"
      ]
     },
     "execution_count": 26,
     "metadata": {},
     "output_type": "execute_result"
    }
   ],
   "source": [
    "plot_bloch_multivector(state_vec)"
   ]
  },
  {
   "cell_type": "code",
   "execution_count": 27,
   "id": "described-launch",
   "metadata": {
    "scrolled": true
   },
   "outputs": [
    {
     "data": {
      "text/plain": [
       "[1.0, 1.0, 0.0, 0.0, 1.0, 1.0, 0.0, 1.0, 1.0]"
      ]
     },
     "execution_count": 27,
     "metadata": {},
     "output_type": "execute_result"
    }
   ],
   "source": [
    "p0s"
   ]
  },
  {
   "cell_type": "code",
   "execution_count": 10,
   "id": "adjustable-hanging",
   "metadata": {},
   "outputs": [],
   "source": [
    "qc.ry(-math.pi/2.,3)\n",
    "qc.draw()"
   ]
  },
  {
   "cell_type": "code",
   "execution_count": 28,
   "id": "completed-silence",
   "metadata": {
    "scrolled": false
   },
   "outputs": [
    {
     "name": "stdout",
     "output_type": "stream",
     "text": [
      "Job is not done\n",
      "Job is not done\n",
      "Job is not done\n",
      "Job is not done\n",
      "Job is not done\n",
      "Job done\n"
     ]
    },
    {
     "data": {
      "text/plain": [
       "{'000000101': 1,\n",
       " '000010000': 2,\n",
       " '000010001': 1,\n",
       " '000010110': 1,\n",
       " '001000000': 6,\n",
       " '001000001': 12,\n",
       " '001000010': 4,\n",
       " '001000011': 7,\n",
       " '001000100': 17,\n",
       " '001000101': 9,\n",
       " '001000110': 10,\n",
       " '001000111': 8,\n",
       " '001001000': 11,\n",
       " '001001001': 6,\n",
       " '001001010': 8,\n",
       " '001001011': 4,\n",
       " '001001100': 4,\n",
       " '001001101': 8,\n",
       " '001001110': 10,\n",
       " '001001111': 3,\n",
       " '001010000': 10,\n",
       " '001010001': 13,\n",
       " '001010010': 6,\n",
       " '001010011': 8,\n",
       " '001010100': 8,\n",
       " '001010101': 10,\n",
       " '001010110': 7,\n",
       " '001010111': 8,\n",
       " '001011000': 4,\n",
       " '001011001': 8,\n",
       " '001011010': 8,\n",
       " '001011011': 1,\n",
       " '001011100': 6,\n",
       " '001011101': 7,\n",
       " '001011110': 9,\n",
       " '001011111': 7,\n",
       " '001100000': 1,\n",
       " '001110010': 1,\n",
       " '001110011': 1,\n",
       " '010011101': 1,\n",
       " '011000000': 12,\n",
       " '011000001': 11,\n",
       " '011000010': 7,\n",
       " '011000011': 11,\n",
       " '011000100': 7,\n",
       " '011000101': 7,\n",
       " '011000110': 12,\n",
       " '011000111': 6,\n",
       " '011001000': 6,\n",
       " '011001001': 6,\n",
       " '011001010': 10,\n",
       " '011001011': 4,\n",
       " '011001100': 9,\n",
       " '011001101': 10,\n",
       " '011001110': 7,\n",
       " '011001111': 9,\n",
       " '011010000': 10,\n",
       " '011010001': 15,\n",
       " '011010010': 11,\n",
       " '011010011': 8,\n",
       " '011010100': 10,\n",
       " '011010101': 12,\n",
       " '011010110': 10,\n",
       " '011010111': 9,\n",
       " '011011000': 8,\n",
       " '011011001': 14,\n",
       " '011011010': 8,\n",
       " '011011011': 7,\n",
       " '011011100': 12,\n",
       " '011011101': 8,\n",
       " '011011110': 11,\n",
       " '011011111': 10,\n",
       " '011110100': 1,\n",
       " '011110101': 1,\n",
       " '011111111': 1,\n",
       " '100000111': 1,\n",
       " '100011000': 1,\n",
       " '101000000': 7,\n",
       " '101000001': 13,\n",
       " '101000010': 5,\n",
       " '101000011': 7,\n",
       " '101000100': 9,\n",
       " '101000101': 11,\n",
       " '101000110': 5,\n",
       " '101000111': 8,\n",
       " '101001000': 7,\n",
       " '101001001': 5,\n",
       " '101001010': 8,\n",
       " '101001011': 6,\n",
       " '101001100': 9,\n",
       " '101001101': 7,\n",
       " '101001110': 4,\n",
       " '101001111': 8,\n",
       " '101010000': 7,\n",
       " '101010001': 10,\n",
       " '101010010': 6,\n",
       " '101010011': 7,\n",
       " '101010100': 8,\n",
       " '101010101': 9,\n",
       " '101010110': 6,\n",
       " '101010111': 11,\n",
       " '101011000': 4,\n",
       " '101011001': 5,\n",
       " '101011010': 4,\n",
       " '101011011': 7,\n",
       " '101011100': 5,\n",
       " '101011101': 11,\n",
       " '101011110': 6,\n",
       " '101011111': 6,\n",
       " '101100101': 1,\n",
       " '101101110': 1,\n",
       " '110010011': 1,\n",
       " '111000000': 8,\n",
       " '111000001': 5,\n",
       " '111000010': 6,\n",
       " '111000011': 9,\n",
       " '111000100': 8,\n",
       " '111000101': 8,\n",
       " '111000110': 7,\n",
       " '111000111': 12,\n",
       " '111001000': 5,\n",
       " '111001001': 7,\n",
       " '111001010': 6,\n",
       " '111001011': 2,\n",
       " '111001100': 6,\n",
       " '111001101': 8,\n",
       " '111001110': 2,\n",
       " '111001111': 7,\n",
       " '111010000': 8,\n",
       " '111010001': 8,\n",
       " '111010010': 11,\n",
       " '111010011': 8,\n",
       " '111010100': 8,\n",
       " '111010101': 9,\n",
       " '111010110': 10,\n",
       " '111010111': 8,\n",
       " '111011000': 11,\n",
       " '111011001': 7,\n",
       " '111011010': 11,\n",
       " '111011011': 4,\n",
       " '111011100': 4,\n",
       " '111011101': 8,\n",
       " '111011110': 3,\n",
       " '111011111': 5,\n",
       " '111100110': 1,\n",
       " '111101001': 1,\n",
       " '111111011': 1}"
      ]
     },
     "execution_count": 28,
     "metadata": {},
     "output_type": "execute_result"
    }
   ],
   "source": [
    "from single_shot_measurement import single_shot as ss\n",
    "ss(qc, single=False)"
   ]
  },
  {
   "cell_type": "code",
   "execution_count": 50,
   "id": "moving-direction",
   "metadata": {},
   "outputs": [],
   "source": [
    "def test_win(lst): #return 0 for player 0 win, 1 for player 1 win, 2 for tie or neither wins\n",
    "    win1=0\n",
    "    win0=0\n",
    "    if lst[0]==lst[1]==lst[2]:\n",
    "        if lst[1]==1:\n",
    "            win1+=1\n",
    "        else:\n",
    "            win0+=1\n",
    "    if lst[3]==lst[4]==lst[5]:\n",
    "        if lst[3]==1:\n",
    "            win1+=1\n",
    "        else:\n",
    "            win0=1\n",
    "    if lst[6]==lst[7]==lst[8]:\n",
    "        if lst[6]==1:\n",
    "            win1+=1\n",
    "        else:\n",
    "            win0+=1\n",
    "    if lst[0]==lst[4]==lst[8]:\n",
    "        if lst[0]==1:\n",
    "            win1+=1\n",
    "        else:\n",
    "            win0+=1\n",
    "    if lst[2]==lst[4]==lst[6]:\n",
    "        if lst[2]==1:\n",
    "            win1+=1\n",
    "        else:\n",
    "            win0=1\n",
    "    if lst[0]==lst[3]==lst[6]:\n",
    "        if lst[0]==1:\n",
    "            win1+=1\n",
    "        else:\n",
    "            win0+=1\n",
    "    if lst[1]==lst[4]==lst[7]:\n",
    "        if lst[1]==1:\n",
    "            win1+=1\n",
    "        else:\n",
    "            win0+=1\n",
    "    if lst[2]==lst[5]==lst[8]:\n",
    "        if lst[2]==1:\n",
    "            win1+=1\n",
    "        else:\n",
    "            win0+=1\n",
    "    if win1>win0:\n",
    "        return 1\n",
    "    elif win0>win1:\n",
    "        return 0\n",
    "    else:\n",
    "        return 2"
   ]
  },
  {
   "cell_type": "code",
   "execution_count": 39,
   "id": "imported-battlefield",
   "metadata": {},
   "outputs": [],
   "source": [
    "a = list(result.keys())[0]"
   ]
  },
  {
   "cell_type": "code",
   "execution_count": 58,
   "id": "individual-fifty",
   "metadata": {},
   "outputs": [],
   "source": [
    "wins1 = 0\n",
    "wins2 = 0\n",
    "for kk in result:\n",
    "    lst = [int(i) for i in kk]\n",
    "    if test_win(lst):\n",
    "        wins1 += result[kk]\n",
    "    elif not test_win(lst):\n",
    "        wins2 += result[kk]\n",
    "    else:\n",
    "        pass\n",
    "return wins1, wins2"
   ]
  },
  {
   "cell_type": "code",
   "execution_count": 59,
   "id": "portuguese-shark",
   "metadata": {},
   "outputs": [
    {
     "data": {
      "text/plain": [
       "640"
      ]
     },
     "execution_count": 59,
     "metadata": {},
     "output_type": "execute_result"
    }
   ],
   "source": [
    "wins1"
   ]
  },
  {
   "cell_type": "code",
   "execution_count": 60,
   "id": "german-democrat",
   "metadata": {},
   "outputs": [
    {
     "data": {
      "text/plain": [
       "50"
      ]
     },
     "execution_count": 60,
     "metadata": {},
     "output_type": "execute_result"
    }
   ],
   "source": [
    "wins2"
   ]
  },
  {
   "cell_type": "code",
   "execution_count": null,
   "id": "advisory-proof",
   "metadata": {},
   "outputs": [],
   "source": []
  }
 ],
 "metadata": {
  "kernelspec": {
   "display_name": "Python 3",
   "language": "python",
   "name": "python3"
  },
  "language_info": {
   "codemirror_mode": {
    "name": "ipython",
    "version": 3
   },
   "file_extension": ".py",
   "mimetype": "text/x-python",
   "name": "python",
   "nbconvert_exporter": "python",
   "pygments_lexer": "ipython3",
   "version": "3.7.9"
  }
 },
 "nbformat": 4,
 "nbformat_minor": 5
}
