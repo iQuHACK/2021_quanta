{
 "cells": [
  {
   "cell_type": "code",
   "execution_count": 1,
   "id": "defensive-lodging",
   "metadata": {},
   "outputs": [],
   "source": [
    "from basic_ops import *"
   ]
  },
  {
   "cell_type": "code",
   "execution_count": 2,
   "id": "backed-exploration",
   "metadata": {},
   "outputs": [],
   "source": [
    "qc=initialize(3)"
   ]
  },
  {
   "cell_type": "code",
   "execution_count": 3,
   "id": "atomic-alabama",
   "metadata": {},
   "outputs": [
    {
     "data": {
      "text/html": [
       "<pre style=\"word-wrap: normal;white-space: pre;background: #fff0;line-height: 1.1;font-family: &quot;Courier New&quot;,Courier,monospace\">     ┌───┐\n",
       "q_0: ┤ H ├\n",
       "     ├───┤\n",
       "q_1: ┤ H ├\n",
       "     ├───┤\n",
       "q_2: ┤ H ├\n",
       "     ├───┤\n",
       "q_3: ┤ H ├\n",
       "     ├───┤\n",
       "q_4: ┤ H ├\n",
       "     ├───┤\n",
       "q_5: ┤ H ├\n",
       "     ├───┤\n",
       "q_6: ┤ H ├\n",
       "     ├───┤\n",
       "q_7: ┤ H ├\n",
       "     ├───┤\n",
       "q_8: ┤ H ├\n",
       "     └───┘\n",
       "c: 9/═════\n",
       "          </pre>"
      ],
      "text/plain": [
       "     ┌───┐\n",
       "q_0: ┤ H ├\n",
       "     ├───┤\n",
       "q_1: ┤ H ├\n",
       "     ├───┤\n",
       "q_2: ┤ H ├\n",
       "     ├───┤\n",
       "q_3: ┤ H ├\n",
       "     ├───┤\n",
       "q_4: ┤ H ├\n",
       "     ├───┤\n",
       "q_5: ┤ H ├\n",
       "     ├───┤\n",
       "q_6: ┤ H ├\n",
       "     ├───┤\n",
       "q_7: ┤ H ├\n",
       "     ├───┤\n",
       "q_8: ┤ H ├\n",
       "     └───┘\n",
       "c: 9/═════\n",
       "          "
      ]
     },
     "execution_count": 3,
     "metadata": {},
     "output_type": "execute_result"
    }
   ],
   "source": [
    "qc.draw()"
   ]
  },
  {
   "cell_type": "code",
   "execution_count": 4,
   "id": "significant-bailey",
   "metadata": {},
   "outputs": [
    {
     "data": {
      "text/html": [
       "<pre style=\"word-wrap: normal;white-space: pre;background: #fff0;line-height: 1.1;font-family: &quot;Courier New&quot;,Courier,monospace\">     ┌───┐     \n",
       "q_0: ┤ H ├─────\n",
       "     ├───┤     \n",
       "q_1: ┤ H ├─────\n",
       "     ├───┤     \n",
       "q_2: ┤ H ├─────\n",
       "     ├───┤     \n",
       "q_3: ┤ H ├─────\n",
       "     ├───┤     \n",
       "q_4: ┤ H ├─────\n",
       "     ├───┤     \n",
       "q_5: ┤ H ├─────\n",
       "     ├───┤     \n",
       "q_6: ┤ H ├─────\n",
       "     ├───┤     \n",
       "q_7: ┤ H ├──■──\n",
       "     ├───┤┌─┴─┐\n",
       "q_8: ┤ H ├┤ X ├\n",
       "     └───┘└───┘\n",
       "c: 9/══════════\n",
       "               </pre>"
      ],
      "text/plain": [
       "     ┌───┐     \n",
       "q_0: ┤ H ├─────\n",
       "     ├───┤     \n",
       "q_1: ┤ H ├─────\n",
       "     ├───┤     \n",
       "q_2: ┤ H ├─────\n",
       "     ├───┤     \n",
       "q_3: ┤ H ├─────\n",
       "     ├───┤     \n",
       "q_4: ┤ H ├─────\n",
       "     ├───┤     \n",
       "q_5: ┤ H ├─────\n",
       "     ├───┤     \n",
       "q_6: ┤ H ├─────\n",
       "     ├───┤     \n",
       "q_7: ┤ H ├──■──\n",
       "     ├───┤┌─┴─┐\n",
       "q_8: ┤ H ├┤ X ├\n",
       "     └───┘└───┘\n",
       "c: 9/══════════\n",
       "               "
      ]
     },
     "execution_count": 4,
     "metadata": {},
     "output_type": "execute_result"
    }
   ],
   "source": [
    "qc=entangle(qc,7,8)\n",
    "qc.draw()"
   ]
  },
  {
   "cell_type": "code",
   "execution_count": 5,
   "id": "mobile-classroom",
   "metadata": {},
   "outputs": [
    {
     "data": {
      "text/html": [
       "<pre style=\"word-wrap: normal;white-space: pre;background: #fff0;line-height: 1.1;font-family: &quot;Courier New&quot;,Courier,monospace\">     ┌───┐           \n",
       "q_0: ┤ H ├───────────\n",
       "     ├───┤           \n",
       "q_1: ┤ H ├───────────\n",
       "     ├───┤           \n",
       "q_2: ┤ H ├───────────\n",
       "     ├───┤           \n",
       "q_3: ┤ H ├───────────\n",
       "     ├───┤           \n",
       "q_4: ┤ H ├───────────\n",
       "     ├───┤           \n",
       "q_5: ┤ H ├───────────\n",
       "     ├───┤┌─────────┐\n",
       "q_6: ┤ H ├┤ RZ(π/2) ├\n",
       "     ├───┤└─────────┘\n",
       "q_7: ┤ H ├─────■─────\n",
       "     ├───┤   ┌─┴─┐   \n",
       "q_8: ┤ H ├───┤ X ├───\n",
       "     └───┘   └───┘   \n",
       "c: 9/════════════════\n",
       "                     </pre>"
      ],
      "text/plain": [
       "     ┌───┐           \n",
       "q_0: ┤ H ├───────────\n",
       "     ├───┤           \n",
       "q_1: ┤ H ├───────────\n",
       "     ├───┤           \n",
       "q_2: ┤ H ├───────────\n",
       "     ├───┤           \n",
       "q_3: ┤ H ├───────────\n",
       "     ├───┤           \n",
       "q_4: ┤ H ├───────────\n",
       "     ├───┤           \n",
       "q_5: ┤ H ├───────────\n",
       "     ├───┤┌─────────┐\n",
       "q_6: ┤ H ├┤ RZ(π/2) ├\n",
       "     ├───┤└─────────┘\n",
       "q_7: ┤ H ├─────■─────\n",
       "     ├───┤   ┌─┴─┐   \n",
       "q_8: ┤ H ├───┤ X ├───\n",
       "     └───┘   └───┘   \n",
       "c: 9/════════════════\n",
       "                     "
      ]
     },
     "execution_count": 5,
     "metadata": {},
     "output_type": "execute_result"
    }
   ],
   "source": [
    "qc=rotate(qc,1,6)\n",
    "qc.draw()"
   ]
  },
  {
   "cell_type": "code",
   "execution_count": 6,
   "id": "severe-navigator",
   "metadata": {},
   "outputs": [
    {
     "data": {
      "text/html": [
       "<pre style=\"word-wrap: normal;white-space: pre;background: #fff0;line-height: 1.1;font-family: &quot;Courier New&quot;,Courier,monospace\">     ┌───┐            \n",
       "q_0: ┤ H ├────────────\n",
       "     ├───┤            \n",
       "q_1: ┤ H ├────────────\n",
       "     ├───┤            \n",
       "q_2: ┤ H ├────────────\n",
       "     ├───┤            \n",
       "q_3: ┤ H ├────────────\n",
       "     ├───┤            \n",
       "q_4: ┤ H ├────────────\n",
       "     ├───┤┌──────────┐\n",
       "q_5: ┤ H ├┤ RZ(-π/2) ├\n",
       "     ├───┤├─────────┬┘\n",
       "q_6: ┤ H ├┤ RZ(π/2) ├─\n",
       "     ├───┤└─────────┘ \n",
       "q_7: ┤ H ├─────■──────\n",
       "     ├───┤   ┌─┴─┐    \n",
       "q_8: ┤ H ├───┤ X ├────\n",
       "     └───┘   └───┘    \n",
       "c: 9/═════════════════\n",
       "                      </pre>"
      ],
      "text/plain": [
       "     ┌───┐            \n",
       "q_0: ┤ H ├────────────\n",
       "     ├───┤            \n",
       "q_1: ┤ H ├────────────\n",
       "     ├───┤            \n",
       "q_2: ┤ H ├────────────\n",
       "     ├───┤            \n",
       "q_3: ┤ H ├────────────\n",
       "     ├───┤            \n",
       "q_4: ┤ H ├────────────\n",
       "     ├───┤┌──────────┐\n",
       "q_5: ┤ H ├┤ RZ(-π/2) ├\n",
       "     ├───┤├─────────┬┘\n",
       "q_6: ┤ H ├┤ RZ(π/2) ├─\n",
       "     ├───┤└─────────┘ \n",
       "q_7: ┤ H ├─────■──────\n",
       "     ├───┤   ┌─┴─┐    \n",
       "q_8: ┤ H ├───┤ X ├────\n",
       "     └───┘   └───┘    \n",
       "c: 9/═════════════════\n",
       "                      "
      ]
     },
     "execution_count": 6,
     "metadata": {},
     "output_type": "execute_result"
    }
   ],
   "source": [
    "qc=rotate(qc,0,5)\n",
    "qc.draw()"
   ]
  },
  {
   "cell_type": "code",
   "execution_count": 8,
   "id": "speaking-czech",
   "metadata": {},
   "outputs": [],
   "source": [
    "qc=measure(qc,3)"
   ]
  },
  {
   "cell_type": "code",
   "execution_count": 9,
   "id": "acoustic-darkness",
   "metadata": {},
   "outputs": [
    {
     "data": {
      "image/png": "[encoded data removed]",
      "text/plain": [
       "<Figure size 504x360 with 1 Axes>"
      ]
     },
     "execution_count": 9,
     "metadata": {},
     "output_type": "execute_result"
    }
   ],
   "source": [
    "# Get an IonQ simulator backend to run circuits on:\n",
    "backend = provider.get_backend(\"ionq_simulator\")\n",
    "\n",
    "# Then run the circuit:\n",
    "job = backend.run(qc, shots=1000)\n",
    "\n",
    "#save job_id\n",
    "job_id_trial = job.job_id()\n",
    "\n",
    "# Fetch the result:\n",
    "result = job.result()\n",
    "# histogram\n",
    "plot_histogram(result.get_counts())"
   ]
  },
  {
   "cell_type": "code",
   "execution_count": null,
   "id": "noted-excerpt",
   "metadata": {},
   "outputs": [],
   "source": []
  }
 ],
 "metadata": {
  "kernelspec": {
   "display_name": "Python 3",
   "language": "python",
   "name": "python3"
  },
  "language_info": {
   "codemirror_mode": {
    "name": "ipython",
    "version": 3
   },
   "file_extension": ".py",
   "mimetype": "text/x-python",
   "name": "python",
   "nbconvert_exporter": "python",
   "pygments_lexer": "ipython3",
   "version": "3.7.9"
  }
 },
 "nbformat": 4,
 "nbformat_minor": 5
}
